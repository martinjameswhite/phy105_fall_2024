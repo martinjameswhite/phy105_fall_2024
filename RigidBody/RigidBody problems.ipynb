{
 "cells": [
  {
   "cell_type": "code",
   "execution_count": null,
   "id": "5cdb4b5b-f011-4ef0-826f-e6aed7a74b4f",
   "metadata": {},
   "outputs": [],
   "source": [
    "import numpy as np\n",
    "import matplotlib.pyplot as plt\n",
    "from mpl_toolkits.mplot3d import Axes3D\n",
    "%matplotlib inline"
   ]
  },
  {
   "cell_type": "code",
   "execution_count": null,
   "id": "7de732af-1cf7-4ef6-ab9b-c1955e364b04",
   "metadata": {},
   "outputs": [],
   "source": [
    "# Use the scipy routine \"solve_ivp\" for our numerical\n",
    "# integrations.\n",
    "from scipy.integrate import solve_ivp"
   ]
  },
  {
   "cell_type": "markdown",
   "id": "0",
   "metadata": {},
   "source": [
    "# Rigid Body Motion"
   ]
  },
  {
   "cell_type": "markdown",
   "id": "3",
   "metadata": {
    "flags": [
     "problems",
     "solutions"
    ]
   },
   "source": [
    "Let us study the rotation of a rigid body. Recall the definitions of the angular velocity vector $\\boldsymbol\\omega$, the moment of inertia tensor $I_{ij} = \\int d^3\\mathbf{r}\\:\\rho(\\mathbf r)(r^2\\delta_{ij}-r_ir_j)$, and angular momentum vector $\\mathbf L=I\\cdot \\boldsymbol\\omega$. Recall that the torque determines the rate of change of angular momentum $\\boldsymbol\\tau = \\dot{\\mathbf L}$."
   ]
  },
  {
   "cell_type": "markdown",
   "id": "5",
   "metadata": {
    "flags": [
     "problems",
     "solutions"
    ]
   },
   "source": [
    "Let's analyse the system in the principal axis in the body-frame in which the moment of inertia is diagonal, i.e.\n",
    "$$I=\\begin{pmatrix}I_1&0&0\\\\0&I_2&0\\\\0&0&I_3\\end{pmatrix}.$$\n",
    "Let's call the basis vectors $\\mathbf e_1$, $\\mathbf e_2$, and $\\mathbf e_3$. Don't forget that $\\mathbf e_i$ change with time!\n",
    "In this basis, the angular momentum is $\\mathbf L = I_1 \\omega_1\\mathbf e_1 + I_2\\omega_2\\mathbf e_2 + I_3\\omega_3\\mathbf e_3$. In the absence of torques, the Euler equations state,\n",
    "\\begin{align}\n",
    "I_1\\dot\\omega_1&=(I_2-I_3)\\omega_2\\omega_3,\\\\\n",
    "I_2\\dot\\omega_2&=(I_3-I_1)\\omega_1\\omega_3,\\\\\n",
    "I_3\\dot\\omega_3&=(I_1-I_2)\\omega_1\\omega_2.\n",
    "\\end{align}\n",
    "These equations can be derived by saying $\\dot{\\mathbf{L}}=0$, including the $\\dot{\\mathbf{e}}_i$ terms and using $\\dot{\\mathbf v}=\\boldsymbol\\omega\\times\\mathbf{v}$ for a vector $\\mathbf{v}$ rotating with angular velocity $\\mathbf{\\omega}$."
   ]
  },
  {
   "cell_type": "markdown",
   "id": "9",
   "metadata": {
    "flags": [
     "problems",
     "solutions"
    ]
   },
   "source": [
    "Fill in the following function for the derivatives of $\\mathbf{\\omega}$.  We will use this, along with the ```scipy.integrate``` function ```solve_ivp```, to numerically integrate the Euler equations.  Later on we will want to evolve things fairly accurately, so we'll use ```method='DOP853'``` in ```solve_ivp``` since that's good for high accuracy."
   ]
  },
  {
   "cell_type": "code",
   "execution_count": null,
   "id": "50d16bfb-b340-4b98-83b8-4d505293fa77",
   "metadata": {},
   "outputs": [],
   "source": [
    "def euler_derivs(t,y,I1,I2,I3):\n",
    "    \"\"\"The derivatives of the angular velocities ordered as\n",
    "    vec{y} = (omega1, omega2, omega3).  All quantities are\n",
    "    in the \"body frame\", in the eigenbasis of the inertia tensor.\n",
    "    Ij are the three principal moments of inertia.\"\"\"\n",
    "    dy    = np.empty_like(y)\n",
    "    dy[0] = ...\n",
    "    dy[1] = ...\n",
    "    dy[2] = ...\n",
    "    return(dy)"
   ]
  },
  {
   "cell_type": "markdown",
   "id": "30a5da1c-1210-40f6-85f5-df03399567d5",
   "metadata": {},
   "source": [
    "Hint: You can use the ```args``` keyword in ```solve_ivp``` to pass the \"extra\" arguments (I1, I2 and I3) to ```euler_derivs```."
   ]
  },
  {
   "cell_type": "markdown",
   "id": "13",
   "metadata": {
    "flags": [
     "problems",
     "solutions"
    ]
   },
   "source": [
    "What happens when $\\boldsymbol\\omega_0$ is aligned with one of the principal moments of inertia? Check that your function returns what you expect in this situation. "
   ]
  },
  {
   "cell_type": "markdown",
   "id": "20",
   "metadata": {
    "flags": [
     "problems",
     "solutions"
    ]
   },
   "source": [
    "What happens when $I_1=I_2=I_3$? Again, check that your function makes sense."
   ]
  },
  {
   "cell_type": "markdown",
   "id": "25",
   "metadata": {
    "flags": [
     "problems",
     "solutions"
    ]
   },
   "source": [
    "(a) Show analytically that if two of the principal moments are equal, then $\\omega$ precesses around the other principal moment.  Label the unique moment $I_1$, and the others $I=I_2=I_3$.\n",
    "If $I_1>I$, we call the object oblate, and $I_1$ is in the short dimension of e.g. a coin. If $I_1<I$, we call the object prolate, and $I_1$ is in the long dimension of e.g. an American football. \n",
    "\n",
    "Analytically compute the angular velocity of precession $\\omega_p=2\\pi/T_p$ in terms of the parameters already defined."
   ]
  },
  {
   "cell_type": "markdown",
   "id": "29",
   "metadata": {
    "flags": [
     "problems",
     "solutions"
    ]
   },
   "source": [
    "(b) Use your numerical solution to estimate the precession rate $\\omega_p$ of an object with $I_1=2$, $I=1$, and $\\boldsymbol\\omega = (1,1,1)^T$ (e.g. you can find the first non-zero time when $|\\boldsymbol\\omega-\\boldsymbol\\omega_0|<\\epsilon$ for some $\\epsilon\\ll1$). Compare with theoretical expectations."
   ]
  },
  {
   "cell_type": "code",
   "execution_count": null,
   "id": "31",
   "metadata": {
    "flags": [
     "solutions"
    ]
   },
   "outputs": [],
   "source": [
    "times = np.linspace(0,10,2000)\n",
    "omega0= [1,1,1]     # Initial angular velocity.\n",
    "II    = (2.,1.,1.)  # Principal moments of inertia.\n",
    "#\n",
    "# FILL THIS IN"
   ]
  },
  {
   "cell_type": "markdown",
   "id": "39",
   "metadata": {
    "flags": [
     "problems",
     "solutions"
    ]
   },
   "source": [
    "Recall than in torque-free motion the energy is given by the kinetic energy,\n",
    "$T=\\frac{1}{2}\\boldsymbol\\omega\\cdot I\\cdot\\boldsymbol\\omega.$\n",
    "Fill in the following function that calculates the energy from a given $\\boldsymbol\\omega$ and $I$ in the body frame."
   ]
  },
  {
   "cell_type": "code",
   "execution_count": null,
   "id": "41",
   "metadata": {
    "flags": [
     "solutions"
    ]
   },
   "outputs": [],
   "source": [
    "def energy(omega,II):\n",
    "    \"\"\"\n",
    "    omega: angular velocity vector, shape (3,)\n",
    "    II: principal moments of inertia, shape (3,)\n",
    "    returns: energy, scalar\n",
    "    \"\"\"\n",
    "    return( SOMETHING )"
   ]
  },
  {
   "cell_type": "markdown",
   "id": "55bb15d1-6dc0-4f00-b10e-27fb3046ae61",
   "metadata": {},
   "source": [
    "Check to see how well energy is conserved for some random trajectories (i.e. random initial $\\mathbf{\\omega}_0$) if $I=(2,1,0.5)$."
   ]
  },
  {
   "cell_type": "markdown",
   "id": "7e3f5f8f-b290-4df6-9456-cc766cb88e9d",
   "metadata": {
    "flags": [
     "problems",
     "solutions"
    ]
   },
   "source": [
    "(c) In $\\boldsymbol\\omega$-space, what shape do the energy contours take? Recall that since energy is conserved, $\\boldsymbol\\omega$ is constrained to be on such surfaces."
   ]
  },
  {
   "cell_type": "markdown",
   "id": "7fa418d7-b6bc-4592-9568-14567acd1e2e",
   "metadata": {
    "flags": [
     "problems",
     "solutions"
    ]
   },
   "source": [
    "The following function will plot multiple trajectories overlaid on the allowed energy surface in 3D."
   ]
  },
  {
   "cell_type": "code",
   "execution_count": null,
   "id": "46",
   "metadata": {
    "flags": [
     "solutions"
    ]
   },
   "outputs": [],
   "source": [
    "def plot_trajectories(trajectories,II):\n",
    "    \"\"\"\n",
    "    trajectories: array of shape (M,3,N) containing M omega vectors at N time-steps\n",
    "                (all omega vectors assumed to be at the same energy)\n",
    "    II: principal moments of inertia\n",
    "    returns nothing, plots trajectories as lines in 3d plot overlaid on energy \n",
    "                surface (using energy of first omega vector of first trajectory)\n",
    "    \"\"\"\n",
    "    N = 20\n",
    "    theta, phi = np.linspace(0,np.pi,N),np.linspace(0,2*np.pi,2*N)\n",
    "    theta, phi = np.meshgrid(theta, phi) #surface is 2d, need 2d array of points\n",
    "    \n",
    "    T = energy(trajectories[0,:,0],II)\n",
    "    print(\"Energy for trajectory 0 at time 0 is \",T)\n",
    "\n",
    "    x = np.sin(theta)*np.cos(phi)*(2*T/II[0])**.5\n",
    "    y = np.sin(theta)*np.sin(phi)*(2*T/II[1])**.5\n",
    "    z = np.cos(theta)*(2*T/II[2])**.5\n",
    "\n",
    "    fig = plt.figure(figsize=(8,8))\n",
    "    ax  = fig.add_subplot(111, projection='3d')\n",
    "    ax.plot_surface(x,y,z,alpha=.2,facecolors=[[\"w\"]*N]*2*N)\n",
    "    ax.set_xlabel(\"$\\omega_1$\")\n",
    "    ax.set_ylabel(\"$\\omega_2$\")\n",
    "    ax.set_zlabel(\"$\\omega_3$\")\n",
    "    \n",
    "    bound = np.amax([x,y,z])\n",
    "    ax.set_xlim(-bound,bound)\n",
    "    ax.set_ylim(-bound,bound)\n",
    "    ax.set_zlim(-bound,bound)\n",
    "    \n",
    "    for omegas in trajectories:\n",
    "        ax.plot(*omegas)  # was omegas.T"
   ]
  },
  {
   "cell_type": "markdown",
   "id": "48",
   "metadata": {
    "flags": [
     "problems",
     "solutions"
    ]
   },
   "source": [
    "The following plots the trajectories of some randomly chosen initial $\\boldsymbol\\omega$s."
   ]
  },
  {
   "cell_type": "code",
   "execution_count": null,
   "id": "50",
   "metadata": {
    "flags": [
     "solutions"
    ]
   },
   "outputs": [],
   "source": [
    "def get_random_initials(II,energy=1,n=30):\n",
    "    \"\"\"\n",
    "    II: principal moments of inertia, scalars\n",
    "    energy: energy of initial states\n",
    "    n: number of points to sample\n",
    "    returns: n randomly chosen omega vectors with given energy\n",
    "    \"\"\"\n",
    "    randoms = np.zeros((n,3))\n",
    "    for i in range(n): #sample uniformly from sphere using rejection\n",
    "        x = np.random.rand(3)*2-1\n",
    "        r = np.sum(x**2)\n",
    "        while r > 1:\n",
    "            x = np.random.rand(3)*2-1\n",
    "            r = np.sum(x**2)\n",
    "        randoms[i] = x/r**.5\n",
    "    randoms[:,0] = randoms[:,0]*(2*energy/II[0])**.5\n",
    "    randoms[:,1] = randoms[:,1]*(2*energy/II[1])**.5\n",
    "    randoms[:,2] = randoms[:,2]*(2*energy/II[2])**.5\n",
    "    return(randoms)\n",
    "\n",
    "\n",
    "II      = np.array([2,1,0.5])\n",
    "omega0s = get_random_initials(II)\n",
    "times   = np.linspace(0,20,2000)\n",
    "trajs   = np.zeros( (omega0s.shape[0],3,times.size) )\n",
    "for i in range(omega0s.shape[0]):\n",
    "    res   = solve_ivp(euler_derivs,[times[0],times[-1]],omega0s[i,:],\\\n",
    "                                    method='DOP853',t_eval=times,args=II)\n",
    "    trajs[i,:,:] = res.y[:,:]\n",
    "plot_trajectories(trajs,II)\n",
    "plt.tight_layout()"
   ]
  },
  {
   "cell_type": "markdown",
   "id": "62",
   "metadata": {
    "flags": [
     "problems",
     "solutions"
    ]
   },
   "source": [
    "(d) The Earth's axis of rotation precesses with a period of about 430 days (not to be confused with the precession of 26,000 years around its orbital rotation axis, which is caused mostly by tidal/gravitational forces). This precession is known as _Chandler wobble_. Assuming the Earth is a rigid oblate spherioid (i.e. $I_1>I$), estimate the fractional asymmetry of the principal moments of inertia (i.e. $\\frac{I-I_1}{I}$). From this, assuming the Earth's density is a scaled spherically symmetric distribution (like how we plotted the energy ellipsoid surfaces above), calculate its _ellipticity_ (ratio of major to minor axes)."
   ]
  },
  {
   "cell_type": "markdown",
   "id": "70",
   "metadata": {
    "flags": [
     "problems",
     "solutions"
    ]
   },
   "source": [
    "Now consider the general case, $I_1>I_2>I_3$ (in the approriate basis). We know that the principal moments of inertia are fixed points (equilibria) for $\\boldsymbol\\omega$. However, are they stable? If we consider the motion very close to the principal moments (i.e. linearise the differential equation) we find two are stable and one is unstable. There are no other equilibria."
   ]
  },
  {
   "cell_type": "markdown",
   "id": "72",
   "metadata": {
    "flags": [
     "solutions"
    ]
   },
   "source": [
    "### Proof ###\n",
    "\n",
    "Consider the equilibrium at principal moment $1$.  Assuming $\\omega_2$ and $\\omega_3$ are small ($\\mathcal{O}(\\epsilon)$), we find that $\\dot\\omega_1=\\mathcal{O}(\\epsilon^2)$, and thus\n",
    "$$\n",
    "  \\frac{d}{dt} \\begin{pmatrix}\\omega_2\\\\\\omega_3\\end{pmatrix}\n",
    "  =\\omega_1\\begin{pmatrix}0&\\frac{I_k-I_i}{I_j}\\\\\\frac{I_i-I_j}{I_k}&0\\end{pmatrix}\n",
    "  \\begin{pmatrix}\\omega_2\\\\\\omega_3\\end{pmatrix}+\\mathcal{O}(\\epsilon^2).\n",
    "$$\n",
    "We can in fact generalize this to any cyclic ordered triple $ijk$, of which $i=1$, $j=2$ and $k=3$ is just one example.\n",
    "\n",
    "The matrix has eigenvalues $\\lambda_\\pm=\\pm\\omega_i\\sqrt{-(I_i-I_k)(I_i-I_j)/(I_jI_k)}$.\n",
    "Thus\n",
    "\\begin{align}\n",
    "  (I_i-I_k)(I_i-I_j)>0\n",
    "  &\\implies\\text{imaginary eigenvalues}\\implies\\boldsymbol\\omega \\text{ rotates around } \\mathbf{e_i},\\\\\n",
    "  (I_i-I_k)(I_i-I_j)<0\n",
    "  &\\implies\\text{one positive, one negative eigenvalue}\\implies\\mathbf e_i \\text{ is saddle point}.\n",
    "\\end{align}\n",
    "For the largest and smallest moments, $(I_i-I_j)(I_i-I_k)>0$, so we see precession and the equilibrium is stable. The middle moment is a saddle point, so is unstable.\n",
    "\n",
    "There are no other equilibria apart from the trivial $\\boldsymbol\\omega=0$."
   ]
  },
  {
   "cell_type": "markdown",
   "id": "74",
   "metadata": {
    "flags": [
     "problems",
     "solutions"
    ]
   },
   "source": [
    "Consider the following video of  the rotation of a free rigid body taken on the ISS. Note that the initial angular velocity vector is very close to a principal moment of inertia."
   ]
  },
  {
   "cell_type": "code",
   "execution_count": null,
   "id": "75",
   "metadata": {
    "flags": [
     "problems",
     "solutions"
    ]
   },
   "outputs": [],
   "source": [
    "from IPython.display import Video\n",
    "Video(\"Dancing T-handle in zero-g.mp4\",width=700)"
   ]
  },
  {
   "cell_type": "markdown",
   "id": "76",
   "metadata": {
    "flags": [
     "problems",
     "solutions"
    ]
   },
   "source": [
    "(e) What can you conclude about the values of the principal moments of inertia, and specifically the moment that it starts off close to?"
   ]
  },
  {
   "cell_type": "markdown",
   "id": "90",
   "metadata": {},
   "source": [
    "### Intertial frames"
   ]
  },
  {
   "cell_type": "markdown",
   "id": "91",
   "metadata": {
    "flags": [
     "problems",
     "solutions"
    ]
   },
   "source": [
    "Now let's transform to an inertial reference frame, i.e. one that isn't fixed on the body, and denote quantities in this (lab) frame using primes ('), like we've been doing in lecture.\n",
    "\n",
    "Let's define the rotation between the two frames to be $R(t)$ according to\n",
    "$\\mathbf x'=R\\cdot\\mathbf x$\n",
    "for any vector $\\mathbf x$, i.e. $R(t)$ takes us from the body-frame vector to the lab/intertial frame vector.\n",
    "\n",
    "(f) If at time $t$ the body frame is rotating with angular velocity $\\mathbf{\\omega}$, show that\n",
    "$$\n",
    "  \\dot R_{ij}=R_{ik}\\epsilon_{klj}\\omega_l.\n",
    "$$\n",
    "(Hint: what is $\\dot{\\mathbf x'}$ for $\\mathbf x$ fixed in the body frame, first expressed in terms of $R$ and second in terms of $\\mathbf{\\omega}\\times$?)"
   ]
  },
  {
   "cell_type": "markdown",
   "id": "0e254878-0971-4975-87ee-00b9a4d572da",
   "metadata": {},
   "source": [
    "Let us write a routine to return the dual of the 3-vector $\\omega$, i.e. $\\epsilon_{ijk}\\omega_k$, then we can always integrate our ODE for $R(t)$."
   ]
  },
  {
   "cell_type": "code",
   "execution_count": null,
   "id": "93b2b967-a664-45d1-9ea1-82f4e2919dc3",
   "metadata": {},
   "outputs": [],
   "source": [
    "def hodge_dual(w):\n",
    "    \"\"\"Returns the Hodge dual of 3-vector w.\"\"\"\n",
    "    # There is a clever way to do this using numpy's \"einsum\"\n",
    "    # routine, but for clarity let's just type them all out ...\n",
    "    Omega      = np.zeros( (3,3) )\n",
    "    Omega[0,1] = -w[2]\n",
    "    Omega[1,2] = -w[0]\n",
    "    Omega[2,0] = -w[1]\n",
    "    Omega[1,0] = -Omega[0,1]\n",
    "    Omega[2,1] = -Omega[1,2]\n",
    "    Omega[0,2] = -Omega[2,0]\n",
    "    return(Omega)"
   ]
  },
  {
   "cell_type": "markdown",
   "id": "ff2aff12-26a5-4202-94bd-05256eb1f46c",
   "metadata": {},
   "source": [
    "Complete the routine below to return the derivatives of $\\omega$ (in the body frame) and the derivatives of the $R$ matrix.  We will simply pack them into our \"$y$\" vector as $(\\omega_1,\\omega_2,\\omega_3,R_{11},R_{12},\\cdots)$."
   ]
  },
  {
   "cell_type": "code",
   "execution_count": null,
   "id": "3835f0c5-4e92-4ebd-851e-0d6072d8e079",
   "metadata": {},
   "outputs": [],
   "source": [
    "def euler_derivs(t,y,I1,I2,I3):\n",
    "    \"\"\"Extend our earlier derivative routine to also\n",
    "    include the derivatives of R.  We will store first\n",
    "    the three components of omega (in the body frame)\n",
    "    and then the 9 components of the R matrix.\n",
    "    Ij are the three principal moments of inertia.\"\"\"\n",
    "    # Extract R from our y-vector.\n",
    "    RR    = y[3:].reshape(3,3)\n",
    "    # Generate space for the derivatives.\n",
    "    dy    = np.empty_like(y)\n",
    "    # The first 3 equations are as we had before.\n",
    "    dy[0] = (I2-I3)/I1*y[1]*y[2]\n",
    "    dy[1] = (I3-I1)/I2*y[0]*y[2]\n",
    "    dy[2] = (I1-I2)/I3*y[0]*y[1]\n",
    "    # Now compute Rdot, and unpack it into dy[3:] using flatten().\n",
    "    Rdot  = SOMETHING\n",
    "    dy[3:]= Rdot.flatten() \n",
    "    return(dy)"
   ]
  },
  {
   "cell_type": "markdown",
   "id": "115",
   "metadata": {
    "flags": [
     "problems",
     "solutions"
    ]
   },
   "source": [
    "(g) Now model a coin, which has a thickness very small compared to the radius.  Analytically compute the moments of inertia assuming the \"thin\" direction is $\\widehat{z}$.  Try using different initial angular velocities and integrate our equations to find its rotation. You may wish to throw a coin in the air a few times to get some intuition for what you expect!"
   ]
  },
  {
   "cell_type": "markdown",
   "id": "8e52e82a-23e3-4207-bd98-f00cb7429426",
   "metadata": {},
   "source": [
    "Now we have an array of rotation matrices.  If we multiply $[0,1,1]$ by each matrix we get the tip of the normal vector to a coin that started at 45 degrees to the $z$-axis (in the $y-z$ plane). We should see how that rotates and tumbles, and whether it matches our expectations."
   ]
  },
  {
   "cell_type": "code",
   "execution_count": null,
   "id": "4128c3a1-1236-4f7d-80a1-c371cddb89b9",
   "metadata": {},
   "outputs": [],
   "source": [
    "# We will repurpose our plot_trajectories code, but now with a\n",
    "# unit II matrix to plot the motion of the tip on a unit sphere\n",
    "# (so \"II\" now has nothing to do with inertias).\n",
    "# Also, the axis labels will still be omega_i, but that's not\n",
    "# true anymore, it's really x-y-z.\n",
    "#\n",
    "# FINISH THIS\n",
    "#"
   ]
  },
  {
   "cell_type": "markdown",
   "id": "70ddd834-f289-4fe5-a0aa-24e2348f422a",
   "metadata": {},
   "source": [
    "## Animation\n",
    "\n",
    "If you're feeling so inclined, you can actually use Matplotlib to animate this rather than using these static traces.  This is left to your discretion."
   ]
  },
  {
   "cell_type": "markdown",
   "id": "123",
   "metadata": {
    "flags": [
     "problems",
     "solutions"
    ]
   },
   "source": [
    "## Free rotation\n",
    "\n",
    "(h) In the previous questions, we assumed that objects rotate freely in zero-gravity, e.g. in free-fall on the ISS. We also assumed that they rotate freely in the presence of gravity when thrown in the air. However, they don't rotate freely in the presence of gravity when, e.g. resting on a table. What exactly does it mean for something to rotate freely, and where does this difference in behaviour come from?"
   ]
  },
  {
   "cell_type": "markdown",
   "id": "5ac8a90c-987f-4e8f-9a85-23f407f2d079",
   "metadata": {},
   "source": [
    "# The End"
   ]
  }
 ],
 "metadata": {
  "kernelspec": {
   "display_name": "Python 3 (ipykernel)",
   "language": "python",
   "name": "python3"
  },
  "language_info": {
   "codemirror_mode": {
    "name": "ipython",
    "version": 3
   },
   "file_extension": ".py",
   "mimetype": "text/x-python",
   "name": "python",
   "nbconvert_exporter": "python",
   "pygments_lexer": "ipython3",
   "version": "3.11.10"
  }
 },
 "nbformat": 4,
 "nbformat_minor": 5
}
