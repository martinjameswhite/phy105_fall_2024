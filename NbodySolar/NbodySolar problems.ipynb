{
 "cells": [
  {
   "cell_type": "code",
   "execution_count": null,
   "id": "c9b2a369-2276-4856-a9b1-ca5da3413482",
   "metadata": {},
   "outputs": [],
   "source": [
    "import numpy as np\n",
    "import matplotlib.pyplot as plt\n",
    "%matplotlib inline"
   ]
  },
  {
   "cell_type": "code",
   "execution_count": null,
   "id": "b23b87f3-b93f-4273-ad4f-17c4fca5208f",
   "metadata": {},
   "outputs": [],
   "source": [
    "from scipy.interpolate import InterpolatedUnivariateSpline as Spline"
   ]
  },
  {
   "cell_type": "markdown",
   "id": "7e35b6a2-1f55-4c2d-afcd-13d2cccf63c3",
   "metadata": {},
   "source": [
    "## N-body problem for the solar system\n",
    "\n",
    "As an example of an N-body evolution let us consider the solar system.  We will simplify our life dramatically by\n",
    "\n",
    "1. Not including relativistic effects or the finite size/shape of bodies (i.e. treating them as point sources).\n",
    "2. Sticking to the major solar system bodies.\n",
    "3. Doing a \"brute force\" computation of the accelerations.\n",
    "4. Using a simple-minded, low order integrator.\n",
    "\n",
    "This will still be enough to get the basic idea."
   ]
  },
  {
   "cell_type": "markdown",
   "id": "eafceafc-0426-4700-8f0d-d1df03fd6511",
   "metadata": {},
   "source": [
    "To begin with the equations of motion are simple.  If $x_j$ is the 3D, Cartesian position of body $j$ in the chosen frame (for us the Solar System Barycenter -- SSB) then\n",
    "$$\n",
    "  \\ddot{x}_j = \\sum_{i\\ne j} \\frac{G m_i (x_i-x_j)}{|x_i-x_j|^3}\n",
    "$$\n",
    "Note, if we replace $|x_i-x_j|^3$ in the denominator with a function that does not go to zero but only to a very small quantity, then the sum will automatically exclude the $i=j$ term and we don't need to consider it separately.\n",
    "\n",
    "Let us first consider how to compute the accelerations given a vector of positions."
   ]
  },
  {
   "cell_type": "code",
   "execution_count": null,
   "id": "26684423-8d07-4d09-9dba-53b6b4593fbd",
   "metadata": {},
   "outputs": [],
   "source": [
    "def acceleration(mass,pos,G=6.673e-20,eps=1.):\n",
    "    \"\"\"Given\n",
    "    mass: a numpy array of size (Nbodies) of the masses in kg.\n",
    "    pos:  a numpy array of size (Nbodies,3) of Cartesian positions in km.\n",
    "    compute the accelerations, in km/s^2 returned as a numpy array of\n",
    "    size (Nbodies,3).\"\"\"\n",
    "    Nbodies  = mass.size\n",
    "    # Extract the three coordinates.\n",
    "    xx,yy,zz = pos[:,0],pos[:,1],pos[:,2]\n",
    "    # Compute the difference \"matrix\": x_i-x_j for each of the coordinates:\n",
    "    dx,dy,dz = xx[:,None]-xx[None,:],yy[:,None]-yy[None,:],zz[:,None]-zz[None,:]\n",
    "    # and hence the denminator in the acceleration.  The \"eps**2\" is\n",
    "    # just to avoid an overflow when i==j:\n",
    "    rinv3 = (dx**2 + dy**2 + dz**2 + eps**2)**(-1.5)\n",
    "    acc   = np.zeros( (Nbodies,3) )\n",
    "    # Note that this is an O(N^2) sum, so for very large N would be\n",
    "    # \"prohibitively expensive\" and more clever techniques would be needed.\n",
    "    acc[:,0] = np.dot(mass,dx*rinv3) * G\n",
    "    acc[:,1] = np.dot(mass,dy*rinv3) * G \n",
    "    acc[:,2] = np.dot(mass,dz*rinv3) * G             \n",
    "    return(acc)\n",
    "    #"
   ]
  },
  {
   "cell_type": "markdown",
   "id": "bda57b6c-731f-43fd-a607-39d8695969f6",
   "metadata": {},
   "source": [
    "Now we need initial condition data and we need to choose an integration scheme."
   ]
  },
  {
   "cell_type": "markdown",
   "id": "925cb5e3-5dfa-42c7-a7b0-b68914d4d09c",
   "metadata": {},
   "source": [
    "We can get the initial conditions from [NASA JPLs \"Horizons\" ephereris](https://ssd.jpl.nasa.gov/horizons/app.html#/) by selecting \"Vector Table\" in the \"Ephemeris type\" field and then pulling out the major objects 1 by 1."
   ]
  },
  {
   "cell_type": "code",
   "execution_count": null,
   "id": "36c7d6ff-b51b-407e-81fd-0c10c067c014",
   "metadata": {},
   "outputs": [],
   "source": [
    "# Order of bodies is: Sun, Jupiter, Saturn, Earth.\n",
    "# Units kg, km and sec.\n",
    "# Start time: A.D. 2024-Aug-29 00:00:00.0000 TDB\n",
    "#\n",
    "mass = [1988500e24,1.89818722e27,5.6834e26,5.97219e24]\n",
    "pos  = [\\\n",
    "         [-9.850907191013237E+05,-6.531770607421407E+05, 2.883058593038481E+04],\\\n",
    "         [ 2.931640346264411E+08, 6.941170814877204E+08,-9.438253743775815E+06],\\\n",
    "         [ 1.397465951978320E+09,-3.662742460504637E+08,-4.927131341947623E+07],\\\n",
    "         [ 1.368387986000750E+08,-6.255108076152393E+07, 3.110502304611728E+04],\\\n",
    "       ]\n",
    "vel  = [\\\n",
    "         [ 1.124786898374933E-02,-8.579895010531720E-03,-1.649143410591409E-04],\\\n",
    "         [-1.218378931561312E+01, 5.705344672453313E+00, 2.489014930593703E-01],\\\n",
    "         [ 1.912632825537668E+00, 9.324040527096212E+00,-2.382309230325435E-01],\\\n",
    "         [ 1.174218017143991E+01, 2.705450701133305E+01,-1.783775069394977E-03],\\\n",
    "       ]\n",
    "#\n",
    "mass = np.array(mass)\n",
    "pos  = np.array(pos)\n",
    "vel  = np.array(vel)"
   ]
  },
  {
   "cell_type": "markdown",
   "id": "dd216be3-3f50-418a-9241-4cd27ca7d198",
   "metadata": {},
   "source": [
    "We have to be _slightly_ careful here, because our ICs (in particular the total momentum or CoM velocity) are for the system with all of the bodies.  If we keep only some of them then the total momentum is changed and the system will translate over time by some amount.  We could either (a) subtract a constant from all of the velocities to ensure $P_{\\rm tot}=0$ or (b) simply plot positions relative to the sun.  We'll do the former."
   ]
  },
  {
   "cell_type": "code",
   "execution_count": null,
   "id": "b1340f05-e322-484a-9ae3-3fded3913a89",
   "metadata": {},
   "outputs": [],
   "source": [
    "print(\"Init. total momentum: \",np.dot(mass,vel))\n",
    "print(\"Init. CoM velocity:   \",np.dot(mass,vel)/np.sum(mass))\n",
    "#\n",
    "vel -= np.dot(mass,vel)/np.sum(mass)\n",
    "#\n",
    "print(\"Final total momentum: \",np.dot(mass,vel))\n",
    "print(\"Final CoM velocity:   \",np.dot(mass,vel)/np.sum(mass))"
   ]
  },
  {
   "cell_type": "markdown",
   "id": "e3bafd48-4c8d-45e0-942f-eed27c18cc80",
   "metadata": {},
   "source": [
    "For the integration let us choose the [\"position only\" Verlet scheme](https://en.wikipedia.org/wiki/Verlet_integration), since we won't actually need the velocities for now.  Starting from $x_{\\rm init}$ and $\\dot{x}_{\\rm init}$ and writing $A(x)$ as the acceleration for positions $x$, we compute\n",
    "$$\n",
    "  x_{\\rm old} = x_{\\rm init}\n",
    "  \\quad , \\quad\n",
    "  x_{\\rm cur} = x_{\\rm init} + \\dot{x}_{\\rm init} \\Delta t +\n",
    "  \\frac{1}{2} A(x_{\\rm init}) (\\Delta t)^2\n",
    "$$\n",
    "Given $x_{\\rm old}$ and $x_{\\rm cur}$ we compute\n",
    "$$\n",
    "  x_{\\rm new} = 2 x_{\\rm cur} - x_{\\rm old} + A(x_{\\rm cur}) (\\Delta t)^2\n",
    "$$\n",
    "and then iterate."
   ]
  },
  {
   "cell_type": "code",
   "execution_count": null,
   "id": "e797c271-bf90-4b63-9e24-78328196ea4a",
   "metadata": {},
   "outputs": [],
   "source": [
    "def evolution(mass,pos,vel,tend=3.156e+9,dt=1e4,dtsave=1e6):\n",
    "    \"\"\"Does the N-body evolution.\"\"\"\n",
    "    # Set the initial conditions.\n",
    "    tt   = 0.0\n",
    "    acc  = acceleration(mass,pos)\n",
    "    xold = pos.copy()\n",
    "    xcur = xold + vel*dt + 0.5*acc*dt**2\n",
    "    tt  += dt\n",
    "    # Now do the integration, saving points every so\n",
    "    # often so that we can make plots and do analysis.\n",
    "    tlast,tsave,xsave = tt,[],[]\n",
    "    while tt<tend:\n",
    "        # The N-body step, using Verlet integration.\n",
    "        xnew  = 2*xcur - xold + acceleration(mass,xcur)*dt**2\n",
    "        xold  = xcur\n",
    "        xcur  = xnew\n",
    "        tt   += dt\n",
    "        # Check to see whether to save this position.\n",
    "        if tt-tlast>dtsave:\n",
    "            # Positions have been updated to \"tt\".\n",
    "            tsave.append(tt)\n",
    "            xsave.append(xcur[:,:])\n",
    "            tlast = tt\n",
    "    tsave = np.array(tsave)\n",
    "    xsave = np.array(xsave)\n",
    "    return( (tsave,xsave) )"
   ]
  },
  {
   "cell_type": "markdown",
   "id": "fd4a8169-fec3-485c-882e-83380eeccd7a",
   "metadata": {},
   "source": [
    "Let's make a run and plot the orbits just to show that this is working.  The default ```tend``` is roughly a century (in seconds) so each planet should complete at least one orbit."
   ]
  },
  {
   "cell_type": "code",
   "execution_count": null,
   "id": "f7ec7fdf-1fbe-4378-82ed-143032e449ae",
   "metadata": {},
   "outputs": [],
   "source": [
    "tsave,xsave = evolution(mass,pos,vel,dtsave=5e6)\n",
    "#\n",
    "fig,ax = plt.subplots(1,1,figsize=(5,5))\n",
    "#\n",
    "for ibody in range(mass.size):\n",
    "    col = 'C'+str(ibody)\n",
    "    ax.plot(xsave[:,ibody,0]/1e9,xsave[:,ibody,1]/1e9,'o',mfc='None',color=col)\n",
    "#\n",
    "ax.set_xlabel(r'$x$ ($10^9$km)')\n",
    "ax.set_ylabel(r'$y$ ($10^9$km)')"
   ]
  },
  {
   "cell_type": "markdown",
   "id": "cd61df6d-8f8d-46df-bf03-5fdb7d11eba9",
   "metadata": {},
   "source": [
    "Obviously you could \"spice this up\" by e.g. animating it or plotting the orbits in 3D or adding more planets etc.  If you want to do very long integrations then I recommend you not use this simple integrator but something a bit more sophisticated."
   ]
  },
  {
   "cell_type": "markdown",
   "id": "3fe1fd53-262b-4187-9554-98322c71ec1f",
   "metadata": {},
   "source": [
    "Let's check to see how accurate the integration for the Earth's position is (within the context of our simplified model) by varying the time step."
   ]
  },
  {
   "cell_type": "code",
   "execution_count": null,
   "id": "c9f041e3-85b1-4244-b44e-3c06354e5f2e",
   "metadata": {},
   "outputs": [],
   "source": [
    "# Compare the positions of the bodies with\n",
    "# larger and smaller time steps to see how\n",
    "# the integration is converging."
   ]
  },
  {
   "cell_type": "markdown",
   "id": "3bef5b67-2d69-46ef-93f4-368ca22636c1",
   "metadata": {},
   "source": [
    "Generate some evolutions with and without the major planets.\n",
    "\n",
    "How much does the position of the Earth change?"
   ]
  },
  {
   "cell_type": "markdown",
   "id": "caec744f-6c75-4416-8a23-fadf87bc7527",
   "metadata": {},
   "source": [
    "Now let's look at how close Jupiter and Saturn are as a function of time."
   ]
  },
  {
   "cell_type": "code",
   "execution_count": null,
   "id": "567d84bd-c512-4cd2-867d-79ee59f5097d",
   "metadata": {},
   "outputs": [],
   "source": [
    "# Compute the distance between bodies \"1\" and \"2\" (i.e. Jupiter and Saturn)\n",
    "# as a function of time.\n",
    "dist = # SOMETHING!\n",
    "#\n",
    "yr = 3.15576e+07  # 1yr in seconds.\n",
    "print(\"Distance will be \",Spline(tfull,dist)(50*yr),\" km.\")"
   ]
  },
  {
   "cell_type": "code",
   "execution_count": null,
   "id": "75a708ae-980f-4268-9fc2-9e0367f8142a",
   "metadata": {},
   "outputs": [],
   "source": [
    "fig,ax = plt.subplots(1,1,figsize=(8,5))\n",
    "# Plot the distance vs. time, with time in years.\n",
    "ax.plot(tfull/yr,dist/1e9,'-',color='C0')\n",
    "#\n",
    "ax.set_xlabel(r'$t$ (yr)')\n",
    "ax.set_ylabel(r'Jupiter-Saturn distance ($10^9$km)')"
   ]
  },
  {
   "cell_type": "markdown",
   "id": "78053bfa-ea86-47bc-bc9a-b28559213c04",
   "metadata": {},
   "source": [
    "How much does the Sun move around?"
   ]
  },
  {
   "cell_type": "markdown",
   "id": "c05e30c3-a85a-41b4-a9bb-579b1e3ddbcc",
   "metadata": {},
   "source": [
    "The nearest star, Proxima Centauri, is about $4\\times 10^{13}$ km away.  If we were to view the solar system from directly above (i.e. along the $+\\widehat{z}$ axis) what angle would this \"Sun wobble\" subtend at this distance?"
   ]
  },
  {
   "cell_type": "markdown",
   "id": "fdd1deac-ff18-46d3-8c2a-7de466d607ec",
   "metadata": {},
   "source": [
    "## Satellite motion\n",
    "\n",
    "Suppose that on 29th August 2024 a small satellite of mass $1000\\,$kg was discovered on an inbound trajectory towards the sun.  Imagine it was traveling at $\\vec{v}=15\\,\\widehat{y}\\,\\mathrm{km}\\,\\mathrm{s}^{-1}$ and was observed to be at $\\vec{r}=(4.35,-4.25,-0.045)\\times 10^8$km.\n",
    "\n",
    "How far from the Sun will this satellite be in 2040?  What major event will influence this?"
   ]
  },
  {
   "cell_type": "markdown",
   "id": "753e8d95-8698-4ce0-ad1c-1444f453176e",
   "metadata": {},
   "source": [
    "# The End"
   ]
  }
 ],
 "metadata": {
  "kernelspec": {
   "display_name": "Python 3 (ipykernel)",
   "language": "python",
   "name": "python3"
  },
  "language_info": {
   "codemirror_mode": {
    "name": "ipython",
    "version": 3
   },
   "file_extension": ".py",
   "mimetype": "text/x-python",
   "name": "python",
   "nbconvert_exporter": "python",
   "pygments_lexer": "ipython3",
   "version": "3.11.10"
  }
 },
 "nbformat": 4,
 "nbformat_minor": 5
}
