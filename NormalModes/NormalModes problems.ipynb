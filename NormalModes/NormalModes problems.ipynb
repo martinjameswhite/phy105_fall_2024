{
 "cells": [
  {
   "cell_type": "code",
   "execution_count": null,
   "id": "7a00aa8d-2d4e-402b-9f7d-cbadaedbbddc",
   "metadata": {},
   "outputs": [],
   "source": [
    "import numpy as np\n",
    "import matplotlib.pyplot as plt\n",
    "%matplotlib inline"
   ]
  },
  {
   "cell_type": "markdown",
   "id": "9865c6b2-cd97-41cf-8ad9-f56fc16137ae",
   "metadata": {
    "flags": [
     "problems",
     "solutions"
    ]
   },
   "source": [
    "### Dynamics of a Two-Mass, Three-Spring Coupled Oscillator\n",
    "\n",
    "\n",
    "#### Theoretical Background\n",
    "The two-mass, three-spring coupled oscillator is a classic problem in physics and engineering, illustrating fundamental concepts in dynamics and vibrational analysis. This system consists of two masses ($m_1$ and $m_2$) connected by three springs ($k_1$, $k_2$, $k_3$) in a linear arrangement (say along the $x$-axis).  The first spring connects to a rigid wall on the left and mass $1$ on the right.  The second spring connects masses $1$ and $2$ and the third spring connects to mass $2$ on the left and a rigid wall on the right. The behavior of this system can be understood through the principles of mechanics and vibration theory.\n",
    "\n",
    "In this system, each mass is subject to forces exerted by the springs. These forces depend on the spring constants and the relative displacements of the masses. When displaced from their equilibrium positions, the masses oscillate, and the nature of these oscillations can reveal much about the system's properties.\n",
    "\n",
    "#### Mathematical Formulation\n",
    "\n",
    "IF we assemble the displacements of the two masses into a vector, $\\vec{x}$, their kinetic energy can be written $(1/2)\\dot{\\vec{x}}^T M \\dot{\\vec{x}}$ for a $2\\times 2$ mass matrix $M$:\n",
    "$$\n",
    "  T = \\frac{1}{2}m_1\\dot{x}_1^2 + \\frac{1}{2}m_2\\dot{x}_2^2\n",
    "    = \\frac{1}{2} (\\dot{x}_1,\\dot{x}_2)\n",
    "    \\left(\\begin{array}{cc} m_1 & 0 \\\\ 0 & m_2 \\end{array}\\right)\n",
    "    \\left(\\begin{array}{c} \\dot{x}_1 \\\\ \\dot{x}_2 \\end{array}\\right)\n",
    "$$\n",
    "The potential energy is determined by the \"spring constant matrix\", $K$:\n",
    "$$\n",
    "  V = \\frac{1}{2}k_1 x_1^2 + \\frac{1}{2}k_2(x_2-x_1)^2 + \\frac{1}{2}k_3x_2^2\n",
    "    = \\frac{1}{2} (x_1,x_2)\n",
    "    \\left(\\begin{array}{cc} k_1+k_2 & -k_2 \\\\ -k_2 & k_2+k_3 \\end{array}\\right)\n",
    "    \\left(\\begin{array}{c} x_1 \\\\ x_2 \\end{array}\\right)\n",
    "$$\n",
    "Note that both the kinetic and potential energy are quadratic forms, so the equations of motion (Euler-Lagrange equations) form a linear system -- $M\\dot{\\vec{x}}=K\\vec{x}$ -- which we solve in the usual way by trying $\\vec{x}(t)\\propto\\exp[i\\omega t]$.  This reduces our physics problem to a generalized eigenvalue problem, and we can immediately make use of the very sophisticated methods that exist for solving such problems.  It certainly beats doing it by hand, as we did in lecture!"
   ]
  },
  {
   "cell_type": "markdown",
   "id": "90654ac9-ca68-4be0-a27b-71ef2400ff77",
   "metadata": {},
   "source": [
    "The eigenvalues and eigenvectors of the system matrix, formed by considering the mass and spring matrices, provide significant insights. The eigenvalues correspond to the square of the natural frequencies of the system (denoted as $\\omega_A$ and $\\omega_B$), and the eigenvectors represent the mode shapes. These mode shapes are critical in understanding how the masses move relative to each other during oscillations."
   ]
  },
  {
   "cell_type": "markdown",
   "id": "5",
   "metadata": {
    "flags": [
     "problems",
     "solutions"
    ]
   },
   "source": [
    "### Computational Implementation\n",
    "\n",
    "Create the $M$ and $K$ matrices for a system with $m_1=1$, $m_2=3$ and $k_1=1$, $k_2=2$ and $k_3=4$."
   ]
  },
  {
   "cell_type": "code",
   "execution_count": null,
   "id": "8",
   "metadata": {
    "flags": [
     "problems",
     "solutions"
    ]
   },
   "outputs": [],
   "source": [
    "# Define the mass values\n",
    "m1 = 1.0  # Mass of the first object\n",
    "m2 = 3.0  # Mass of the second object\n",
    "\n",
    "# Define the spring constants\n",
    "k1 = 1.0  # Spring constant for the first spring\n",
    "k2 = 2.0  # Spring constant for the second spring\n",
    "k3 = 4.0  # Spring constant for the third spring\n",
    "\n",
    "# Create the mass matrix (mMat)\n",
    "mMat = FILL THIS IN\n",
    "\n",
    "# Create the spring constant matrix (kMat)\n",
    "kMat = FILL THIS IN"
   ]
  },
  {
   "cell_type": "markdown",
   "id": "c391dd8b-a9bf-4d88-8a4f-e034fd1ac79b",
   "metadata": {
    "flags": [
     "problems",
     "solutions"
    ]
   },
   "source": [
    "Use the ```scipy``` routine ```eig``` to compute the eigenvalues and eigenvectors of our system."
   ]
  },
  {
   "cell_type": "code",
   "execution_count": null,
   "id": "d529139b-973d-4d4c-96ef-5955ac5401a8",
   "metadata": {},
   "outputs": [],
   "source": [
    "from scipy.linalg import eig\n",
    "#\n",
    "# Compute the eigenvalues and eigenvectors\n",
    "evals,evecs = eig(kMat,mMat)\n",
    "#\n",
    "# Extract the eigenfrequencies\n",
    "omegaA = np.sqrt(evals[0]).real\n",
    "omegaB = np.sqrt(evals[1]).real\n",
    "#\n",
    "# Extract the mode shapes\n",
    "modeShapeA = evecs[:,0]\n",
    "modeShapeB = evecs[:,1]\n",
    "#\n",
    "# Print the results\n",
    "print(\"Eigenvalues (Natural Frequencies):\")\n",
    "print(\"Omega A:\", omegaA)\n",
    "print(\"Omega B:\", omegaB)\n",
    "#\n",
    "print(\"\\nEigenvectors (Mode Shapes):\")\n",
    "print(\"Mode Shape A:\", modeShapeA)\n",
    "print(\"Mode Shape B:\", modeShapeB)"
   ]
  },
  {
   "cell_type": "markdown",
   "id": "14",
   "metadata": {
    "flags": [
     "problems",
     "solutions"
    ]
   },
   "source": [
    "**Interpretation of Results**\n",
    "\n",
    "The eigenvalues obtained from the computation represent the squares of the natural frequencies of the oscillator. Taking their square roots gives us the natural frequencies ($\\omega_A$ and $\\omega_B$). The corresponding eigenvectors provide the mode shapes, which are crucial in understanding the relative motion of the two masses in each mode of vibration."
   ]
  },
  {
   "cell_type": "markdown",
   "id": "e97f6622-8c09-4b2b-b1f4-62bddc7ccd11",
   "metadata": {
    "flags": [
     "problems",
     "solutions"
    ]
   },
   "source": [
    "#### Development of the General Solution\n",
    "\n",
    "Now let's develop the general solution for the positions of the two masses. This involves combining the mode shapes and eigenfrequencies calculated earlier to form equations that describe the motion of each mass over time.\n",
    "\n",
    "First, write a function $\\vec{x}(t)$ that returns the positions of the masses over time.\n",
    "This function should take 4 arguments and incorporate both the cosine and sine components for each mode: call them Ac, As, Bc, Bs."
   ]
  },
  {
   "cell_type": "code",
   "execution_count": null,
   "id": "a6318739-2cb7-405c-9654-61b533f154bb",
   "metadata": {},
   "outputs": [],
   "source": [
    "# The general solution.\n",
    "def xx(t, Ac, As, Bc, Bs):\n",
    "    \"\"\"Returns vec{x}(t) given Ac, As, Bc, Bs -- the coefficients describing\n",
    "    the cosine and sine components of each mode.\"\"\"\n",
    "    wAt = omegaA * t\n",
    "    wBt = omegaB * t\n",
    "    return( SOMETHING )"
   ]
  },
  {
   "cell_type": "markdown",
   "id": "4124a870-7225-4575-91ea-acc78d701797",
   "metadata": {
    "flags": [
     "problems",
     "solutions"
    ]
   },
   "source": [
    "#### Set Initial Conditions\n",
    "\n",
    "You now need to define initial conditions for the system. These include initial positions and velocities of both masses.\n",
    "For example, you might assume that initially, one mass is displaced while the other is at rest, and both have no initial velocity."
   ]
  },
  {
   "cell_type": "code",
   "execution_count": null,
   "id": "121d4e57-63ba-44e1-ad11-0c0fc99f9b7a",
   "metadata": {},
   "outputs": [],
   "source": [
    "# Initial conditions\n",
    "x10 = 1.0  # Initial position of mass 1\n",
    "x20 = 0.0  # Initial position of mass 2\n",
    "v10 = 0.0  # Initial velocity of mass 1\n",
    "v20 = 0.0  # Initial velocity of mass 2"
   ]
  },
  {
   "cell_type": "markdown",
   "id": "db656cba-9c21-4c73-a008-24d76cfed6e0",
   "metadata": {
    "flags": [
     "problems",
     "solutions"
    ]
   },
   "source": [
    "#### Solve for Coefficients\n",
    "\n",
    "Using the initial conditions, solve for the coefficients in the general solution. These coefficients determine the specific motion of the system based on its initial state.\n",
    "You can use the ```numpy``` routine ```numpy.linalg.solve``` to find these coefficients."
   ]
  },
  {
   "cell_type": "code",
   "execution_count": null,
   "id": "828e06e7-7745-4b49-802a-43b06a73ef4a",
   "metadata": {},
   "outputs": [],
   "source": [
    "# At t=0 a given set of coefficients would give us a\n",
    "# particular set of x10, x20, v10, v20.  We just want\n",
    "# to \"solve\" (or invert) that relation.\n",
    "#\n",
    "ics = np.array([x10, x20, v10, v20])\n",
    "#\n",
    "# Solve for the coefficients\n",
    "Ac,As,Bc,Bs = FILL THIS IN\n",
    "#\n",
    "print(Ac,As,Bc,Bs)"
   ]
  },
  {
   "cell_type": "markdown",
   "id": "18",
   "metadata": {
    "flags": [
     "problems",
     "solutions"
    ]
   },
   "source": [
    "#### Visualization of Normal Modes\n",
    "\n",
    "Now you can visualize the motion of the masses in the system for different normal modes. By plotting the positions of the masses over time, you will gain a deeper understanding of how the system responds under various conditions.\n",
    "\n",
    "First, create a plot showing the motion of both masses over time in the \"A\" and \"B\" normal modes.  You will need to define a time range for the plot and use it to evaluate the positions of the masses at different time points."
   ]
  },
  {
   "cell_type": "code",
   "execution_count": null,
   "id": "eda1149f-dc35-464c-b582-f833d09e0a1a",
   "metadata": {},
   "outputs": [],
   "source": [
    "tt = np.linspace(0.0,2*np.pi/np.min([omegaA,omegaB]),100)\n",
    "#\n",
    "fig,ax = plt.subplots(2,1,sharex=True,figsize=(6,8))\n",
    "#\n",
    "# Plot the x1 and x2 positions for the A normal mode.\n",
    "ax[0].plot(tt,[ xx(t,Ac,As,0,0)[0] for t in tt ],color='C0',label='$x_1$')\n",
    "ax[0].plot(tt,[ xx(t,Ac,As,0,0)[1] for t in tt ],color='C1',label='$x_2$')\n",
    "ax[0].legend(title='Mode A')\n",
    "# Plot the x1 and x2 positions for the B normal mode.\n",
    "ax[1].plot(tt,[ xx(t,0,0,Bc,Bs)[0] for t in tt ],color='C0',label='$x_1$')\n",
    "ax[1].plot(tt,[ xx(t,0,0,Bc,Bs)[1] for t in tt ],color='C1',label='$x_2$')\n",
    "ax[1].legend(title='Mode B')\n",
    "#\n",
    "ax[1].set_xlabel(r'$t$')\n",
    "ax[0].set_ylabel(r'$x_i$')\n",
    "ax[1].set_ylabel(r'$x_i$')"
   ]
  },
  {
   "cell_type": "markdown",
   "id": "07429093-c25e-4e1c-9d84-d1db03ecb81a",
   "metadata": {},
   "source": [
    "Now plot the motion of the two masses for the ICs chosen above -- combining both modes.  You should extend the $t$ range to better see the interaction of the modes."
   ]
  },
  {
   "cell_type": "code",
   "execution_count": null,
   "id": "56b42405-33ad-46d5-a972-db676b24b80a",
   "metadata": {},
   "outputs": [],
   "source": [
    "tt = np.linspace(0.0,20,500)\n",
    "#\n",
    "fig,ax = plt.subplots(1,1,figsize=(6,4))\n",
    "#\n",
    "FILL THIS IN\n",
    "#\n",
    "ax.set_xlabel(r'$t$')\n",
    "ax.set_ylabel(r'$x_i$')"
   ]
  },
  {
   "cell_type": "markdown",
   "id": "21",
   "metadata": {
    "flags": [
     "problems",
     "solutions"
    ]
   },
   "source": [
    "### Exploratory Scenarios and Analysis\n",
    "\n",
    "**Exploring Parameter Variations**\n",
    "\n",
    "Experiment with different values for the masses ($m1$ and $m2$) and spring constants ($k1$, $k2$, $k3$). Observe how these changes affect the system's natural frequencies and mode shapes.\n",
    "Recalculate the eigenvalues and eigenvectors after each alteration and use them to analyze the new behavior of the system.\n",
    "\n",
    "**Investigating Different Initial Conditions**\n",
    "\n",
    "Modify the initial conditions (initial displacements and velocities of the masses). See how different starting states influence the motion of the system.\n",
    "Solve for the new coefficients with these initial conditions and plot the resulting motions."
   ]
  },
  {
   "cell_type": "markdown",
   "id": "3008838c-1e90-4578-8424-7dbf50cec907",
   "metadata": {},
   "source": [
    "Suppose $m_1=m_2=1$.  Given the theory above, come up with a set of initial conditions and values for the spring constants so that $x_1$ and $x_2$ are in a 3:2 resonance, i.e. that $x_1$ oscillates three times for every two oscillations of $x_2$, that the masses are initially at rest and the oscillations are in phase at $t=0$."
   ]
  },
  {
   "cell_type": "markdown",
   "id": "24",
   "metadata": {
    "flags": [
     "problems",
     "solutions"
    ],
    "jp-MarkdownHeadingCollapsed": true
   },
   "source": [
    "### Real-World Applications of Coupled Oscillator Concepts\n",
    "\n",
    "#### Real-World Applications\n",
    "The concepts and skills you've learned in analyzing the two-mass, three-spring coupled oscillator system are not just theoretical. They have significant real-world applications in various fields of science and engineering:\n",
    "\n",
    "**Vehicle Suspension Systems:** One of the most direct applications is in the design and analysis of vehicle suspension systems. Understanding how interconnected masses (the vehicle body and wheels) interact with springs (the suspension) is crucial for ensuring comfort and stability.\n",
    "\n",
    "**Structural Engineering:** In buildings and bridges, similar principles apply to understanding how structures respond to dynamic forces, such as wind or earthquakes. Analyzing these systems helps in designing buildings that can withstand these forces.\n",
    "\n",
    "**Seismology:** The principles of coupled oscillators are relevant in understanding how geological layers interact during seismic events. This knowledge is crucial for earthquake prediction and designing structures that can endure seismic activities.\n",
    "\n",
    "**Mechanical and Electronic Systems:** Many mechanical and electronic systems, like gears in a clock or circuits in a radio, can be modeled as coupled oscillators. Understanding their dynamics is key to optimizing their design and function.\n",
    "\n",
    "**Physics and Astronomy:** In physics, concepts of coupled oscillations are used to model phenomena ranging from atomic to astronomical scales, such as the behavior of particles in a solid or the orbital dynamics of celestial bodies."
   ]
  },
  {
   "cell_type": "markdown",
   "id": "e2013572-85bf-4934-b9bb-55715fcf5bde",
   "metadata": {},
   "source": [
    "# The End"
   ]
  }
 ],
 "metadata": {
  "kernelspec": {
   "display_name": "Python 3 (ipykernel)",
   "language": "python",
   "name": "python3"
  },
  "language_info": {
   "codemirror_mode": {
    "name": "ipython",
    "version": 3
   },
   "file_extension": ".py",
   "mimetype": "text/x-python",
   "name": "python",
   "nbconvert_exporter": "python",
   "pygments_lexer": "ipython3",
   "version": "3.11.10"
  }
 },
 "nbformat": 4,
 "nbformat_minor": 5
}
